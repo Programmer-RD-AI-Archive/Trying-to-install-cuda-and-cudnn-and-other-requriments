{
 "cells": [
  {
   "cell_type": "code",
   "execution_count": 1,
   "metadata": {
    "executionInfo": {
     "elapsed": 866,
     "status": "ok",
     "timestamp": 1617022452564,
     "user": {
      "displayName": "Ranuga D",
      "photoUrl": "https://lh3.googleusercontent.com/a-/AOh14Gjuad_FPjQJNXxoJSYMZXSIw2XPL4E9xtpdkS1NEQ=s64",
      "userId": "01133442572951588905"
     },
     "user_tz": -330
    },
    "id": "g-OiD-CtzUUS"
   },
   "outputs": [],
   "source": [
    "# !unzip /content/drive/MyDrive/Colab\\ Notebooks/Projects/TensorFlow/Todo/CNN/Face-Mask-12K-Images-Dataset/data.zip"
   ]
  },
  {
   "cell_type": "code",
   "execution_count": 1,
   "metadata": {
    "colab": {
     "base_uri": "https://localhost:8080/"
    },
    "executionInfo": {
     "elapsed": 1653,
     "status": "ok",
     "timestamp": 1617022453364,
     "user": {
      "displayName": "Ranuga D",
      "photoUrl": "https://lh3.googleusercontent.com/a-/AOh14Gjuad_FPjQJNXxoJSYMZXSIw2XPL4E9xtpdkS1NEQ=s64",
      "userId": "01133442572951588905"
     },
     "user_tz": -330
    },
    "id": "_Nd9IV7Lyl9N",
    "outputId": "b39ee112-bc5d-4275-a65d-139a160627fc"
   },
   "outputs": [
    {
     "name": "stdout",
     "output_type": "stream",
     "text": [
      "Sun Apr  4 11:12:25 2021       \n",
      "+-----------------------------------------------------------------------------+\n",
      "| NVIDIA-SMI 460.39       Driver Version: 460.39       CUDA Version: 11.2     |\n",
      "|-------------------------------+----------------------+----------------------+\n",
      "| GPU  Name        Persistence-M| Bus-Id        Disp.A | Volatile Uncorr. ECC |\n",
      "| Fan  Temp  Perf  Pwr:Usage/Cap|         Memory-Usage | GPU-Util  Compute M. |\n",
      "|                               |                      |               MIG M. |\n",
      "|===============================+======================+======================|\n",
      "|   0  Graphics Device     Off  | 00000000:26:00.0  On |                  N/A |\n",
      "|  0%   50C    P8     6W / 170W |    523MiB / 12045MiB |      2%      Default |\n",
      "|                               |                      |                  N/A |\n",
      "+-------------------------------+----------------------+----------------------+\n",
      "                                                                               \n",
      "+-----------------------------------------------------------------------------+\n",
      "| Processes:                                                                  |\n",
      "|  GPU   GI   CI        PID   Type   Process name                  GPU Memory |\n",
      "|        ID   ID                                                   Usage      |\n",
      "|=============================================================================|\n",
      "|    0   N/A  N/A      2243      G   /usr/lib/xorg/Xorg                132MiB |\n",
      "|    0   N/A  N/A      2640      G   /usr/bin/gnome-shell               86MiB |\n",
      "|    0   N/A  N/A      3255      G   ...AAAAAAAAA= --shared-files      302MiB |\n",
      "+-----------------------------------------------------------------------------+\n"
     ]
    }
   ],
   "source": [
    "!nvidia-smi"
   ]
  },
  {
   "cell_type": "code",
   "execution_count": 2,
   "metadata": {
    "executionInfo": {
     "elapsed": 1648,
     "status": "ok",
     "timestamp": 1617022453365,
     "user": {
      "displayName": "Ranuga D",
      "photoUrl": "https://lh3.googleusercontent.com/a-/AOh14Gjuad_FPjQJNXxoJSYMZXSIw2XPL4E9xtpdkS1NEQ=s64",
      "userId": "01133442572951588905"
     },
     "user_tz": -330
    },
    "id": "B9oTR9HZy682"
   },
   "outputs": [],
   "source": [
    "import tensorflow as tf"
   ]
  },
  {
   "cell_type": "code",
   "execution_count": 3,
   "metadata": {
    "executionInfo": {
     "elapsed": 1372,
     "status": "ok",
     "timestamp": 1617022453365,
     "user": {
      "displayName": "Ranuga D",
      "photoUrl": "https://lh3.googleusercontent.com/a-/AOh14Gjuad_FPjQJNXxoJSYMZXSIw2XPL4E9xtpdkS1NEQ=s64",
      "userId": "01133442572951588905"
     },
     "user_tz": -330
    },
    "id": "woBEP8af0MTh"
   },
   "outputs": [],
   "source": [
    "from tensorflow.keras.preprocessing.image import ImageDataGenerator"
   ]
  },
  {
   "cell_type": "code",
   "execution_count": 4,
   "metadata": {
    "executionInfo": {
     "elapsed": 1085,
     "status": "ok",
     "timestamp": 1617022453366,
     "user": {
      "displayName": "Ranuga D",
      "photoUrl": "https://lh3.googleusercontent.com/a-/AOh14Gjuad_FPjQJNXxoJSYMZXSIw2XPL4E9xtpdkS1NEQ=s64",
      "userId": "01133442572951588905"
     },
     "user_tz": -330
    },
    "id": "bdjbGfGp0UqZ"
   },
   "outputs": [],
   "source": [
    "train_datagen = ImageDataGenerator(rescale=1/255.0,width_shift_range=0.25,height_shift_range=0.25,shear_range=0.25,zoom_range=0.25,horizontal_flip=True,vertical_flip=True,validation_split=0.25)\n",
    "test_datagen = ImageDataGenerator(rescale=1/255.0)\n",
    "valid_datagen = ImageDataGenerator(rescale=1/255.0)"
   ]
  },
  {
   "cell_type": "code",
   "execution_count": 5,
   "metadata": {
    "colab": {
     "base_uri": "https://localhost:8080/"
    },
    "executionInfo": {
     "elapsed": 1234,
     "status": "ok",
     "timestamp": 1617022453754,
     "user": {
      "displayName": "Ranuga D",
      "photoUrl": "https://lh3.googleusercontent.com/a-/AOh14Gjuad_FPjQJNXxoJSYMZXSIw2XPL4E9xtpdkS1NEQ=s64",
      "userId": "01133442572951588905"
     },
     "user_tz": -330
    },
    "id": "0xKO6U9J0tGE",
    "outputId": "259911f2-c78e-48c4-86fa-63cf1b54c9df"
   },
   "outputs": [
    {
     "name": "stdout",
     "output_type": "stream",
     "text": [
      "Found 2500 images belonging to 2 classes.\n",
      "Found 992 images belonging to 2 classes.\n",
      "Found 800 images belonging to 2 classes.\n"
     ]
    }
   ],
   "source": [
    "train_data = train_datagen.flow_from_directory(class_mode='binary',directory='./data/Train',target_size=(224,224),subset='validation')\n",
    "test_data = test_datagen.flow_from_directory(class_mode='binary',directory='./data/Test',target_size=(224,224))\n",
    "valid_data = test_datagen.flow_from_directory(class_mode='binary',directory='./data/Validation',target_size=(224,224))"
   ]
  },
  {
   "cell_type": "code",
   "execution_count": 6,
   "metadata": {
    "executionInfo": {
     "elapsed": 1396,
     "status": "ok",
     "timestamp": 1617022454176,
     "user": {
      "displayName": "Ranuga D",
      "photoUrl": "https://lh3.googleusercontent.com/a-/AOh14Gjuad_FPjQJNXxoJSYMZXSIw2XPL4E9xtpdkS1NEQ=s64",
      "userId": "01133442572951588905"
     },
     "user_tz": -330
    },
    "id": "VtHDcJ841N3J"
   },
   "outputs": [],
   "source": [
    "\n",
    "models_to_try = [\n",
    "    ['efficentnetb2','https://tfhub.dev/tensorflow/efficientnet/b2/feature-vector/1'],\n",
    "    ['efficentnetb7','https://tfhub.dev/tensorflow/efficientnet/b7/feature-vector/1'],\n",
    "    ['efficentnetb5','https://tfhub.dev/tensorflow/efficientnet/b5/feature-vector/1'],\n",
    "    ['efficentnetb0','https://tfhub.dev/tensorflow/efficientnet/b0/feature-vector/1'],\n",
    "    ['efficentnetb4','https://tfhub.dev/tensorflow/efficientnet/b4/feature-vector/1'],\n",
    "    ['efficentnetb3','https://tfhub.dev/tensorflow/efficientnet/b3/feature-vector/1'],\n",
    "    ['efficentnetb1','https://tfhub.dev/tensorflow/efficientnet/b1/feature-vector/1'],\n",
    "    ['efficentnetb6','https://tfhub.dev/tensorflow/efficientnet/b6/feature-vector/1'],\n",
    "    ['resnet50','https://tfhub.dev/tensorflow/resnet_50/feature_vector/1'],\n",
    "    ['resnet_v2_152','https://tfhub.dev/google/imagenet/resnet_v2_152/feature_vector/4'],\n",
    "    ['resnet_v1_152','https://tfhub.dev/google/imagenet/resnet_v1_152/feature_vector/4'],\n",
    "    ['resnet_v1_50','https://tfhub.dev/google/imagenet/resnet_v1_50/feature_vector/4'],\n",
    "    ['resnet_v1_101','https://tfhub.dev/google/imagenet/resnet_v1_101/feature_vector/4'],\n",
    "    ['amiebanet_a_n18_f448','https://tfhub.dev/google/imagenet/amoebanet_a_n18_f448/feature_vector/1'],\n",
    "    ['inception_resnet_v2','https://tfhub.dev/google/imagenet/inception_resnet_v2/feature_vector/4'],\n",
    "    ['inception_v1','https://tfhub.dev/google/imagenet/inception_v1/feature_vector/4'],\n",
    "    ['inception_v3','https://tfhub.dev/google/imagenet/inception_v3/feature_vector/4'],\n",
    "    ['nasnet_large','https://tfhub.dev/google/imagenet/nasnet_large/feature_vector/4'],\n",
    "    ['nasnet_mobile','https://tfhub.dev/google/imagenet/nasnet_mobile/feature_vector/4'],\n",
    "    ['mobilenet_v2','https://tfhub.dev/google/tf2-preview/mobilenet_v2/feature_vector/4'],\n",
    "    ['mobilenet_v3_large_100_224','https://tfhub.dev/google/imagenet/mobilenet_v3_large_100_224/feature_vector/5'],\n",
    "    ['mobilenet_v2_100_224','https://tfhub.dev/google/imagenet/mobilenet_v2_100_224/feature_vector/4'],\n",
    "    ['mobilenet_v2_140_224','https://tfhub.dev/google/imagenet/mobilenet_v2_140_224/feature_vector/4'],\n",
    "    ['mobilenet_v1_100_224','https://tfhub.dev/google/imagenet/mobilenet_v1_100_224/feature_vector/4'],\n",
    "    ['mobilenet_v3_small_100_224','https://tfhub.dev/google/imagenet/mobilenet_v3_small_100_224/feature_vector/5'],\n",
    "    ['pnasnet_large','https://tfhub.dev/google/imagenet/pnasnet_large/feature_vector/4'],\n",
    "    ['cond-biggan','https://tfhub.dev/vtab/cond-biggan/1'],\n",
    "    ['bit/s-r50x3','https://tfhub.dev/google/bit/s-r50x3/1'],\n",
    "    ['bit/m-r101x1','https://tfhub.dev/google/bit/m-r101x1/1'],\n",
    "    ['pnasnet_large','https://tfhub.dev/google/imagenet/pnasnet_large/feature_vector/4'],\n",
    "    ['bit/m-r101x3','https://tfhub.dev/google/bit/m-r101x3/1'],\n",
    "    ['bit/s-r101x3','https://tfhub.dev/google/bit/s-r101x3/1'],\n",
    "    ['bit/s-r152x4','https://tfhub.dev/google/bit/s-r152x4/1'],\n",
    "    ['bit/s-r101x1','https://tfhub.dev/google/bit/s-r101x1/1'],\n",
    "]"
   ]
  },
  {
   "cell_type": "code",
   "execution_count": 7,
   "metadata": {
    "colab": {
     "base_uri": "https://localhost:8080/"
    },
    "executionInfo": {
     "elapsed": 9529,
     "status": "ok",
     "timestamp": 1617022462574,
     "user": {
      "displayName": "Ranuga D",
      "photoUrl": "https://lh3.googleusercontent.com/a-/AOh14Gjuad_FPjQJNXxoJSYMZXSIw2XPL4E9xtpdkS1NEQ=s64",
      "userId": "01133442572951588905"
     },
     "user_tz": -330
    },
    "id": "IDF6dg7u1ZfM",
    "outputId": "d0ed5e02-e3ea-4471-98c2-2e875bacb01d"
   },
   "outputs": [
    {
     "name": "stdout",
     "output_type": "stream",
     "text": [
      "Looking in indexes: https://pypi.org/simple, https://pypi.ngc.nvidia.com\n",
      "Requirement already satisfied: wandb in /home/indika/anaconda3/lib/python3.7/site-packages (0.10.24)\n",
      "Requirement already satisfied: docker-pycreds>=0.4.0 in /home/indika/anaconda3/lib/python3.7/site-packages (from wandb) (0.4.0)\n",
      "Requirement already satisfied: Click>=7.0 in /home/indika/anaconda3/lib/python3.7/site-packages (from wandb) (7.0)\n",
      "Requirement already satisfied: configparser>=3.8.1 in /home/indika/anaconda3/lib/python3.7/site-packages (from wandb) (5.0.2)\n",
      "Requirement already satisfied: protobuf>=3.12.0 in /home/indika/anaconda3/lib/python3.7/site-packages (from wandb) (3.15.6)\n",
      "Requirement already satisfied: sentry-sdk>=0.4.0 in /home/indika/anaconda3/lib/python3.7/site-packages (from wandb) (1.0.0)\n",
      "Requirement already satisfied: six>=1.13.0 in /home/indika/anaconda3/lib/python3.7/site-packages (from wandb) (1.15.0)\n",
      "Requirement already satisfied: promise<3,>=2.0 in /home/indika/anaconda3/lib/python3.7/site-packages (from wandb) (2.3)\n",
      "Requirement already satisfied: pathtools in /home/indika/anaconda3/lib/python3.7/site-packages (from wandb) (0.1.2)\n",
      "Requirement already satisfied: psutil>=5.0.0 in /home/indika/anaconda3/lib/python3.7/site-packages (from wandb) (5.6.1)\n",
      "Requirement already satisfied: subprocess32>=3.5.3 in /home/indika/anaconda3/lib/python3.7/site-packages (from wandb) (3.5.4)\n",
      "Requirement already satisfied: python-dateutil>=2.6.1 in /home/indika/anaconda3/lib/python3.7/site-packages (from wandb) (2.8.0)\n",
      "Requirement already satisfied: shortuuid>=0.5.0 in /home/indika/anaconda3/lib/python3.7/site-packages (from wandb) (1.0.1)\n",
      "Requirement already satisfied: GitPython>=1.0.0 in /home/indika/anaconda3/lib/python3.7/site-packages (from wandb) (3.1.14)\n",
      "Requirement already satisfied: requests<3,>=2.0.0 in /home/indika/anaconda3/lib/python3.7/site-packages (from wandb) (2.21.0)\n",
      "Requirement already satisfied: PyYAML in /home/indika/anaconda3/lib/python3.7/site-packages (from wandb) (5.1)\n",
      "Requirement already satisfied: gitdb<5,>=4.0.1 in /home/indika/anaconda3/lib/python3.7/site-packages (from GitPython>=1.0.0->wandb) (4.0.7)\n",
      "Requirement already satisfied: smmap<5,>=3.0.1 in /home/indika/anaconda3/lib/python3.7/site-packages (from gitdb<5,>=4.0.1->GitPython>=1.0.0->wandb) (4.0.0)\n",
      "Requirement already satisfied: urllib3<1.25,>=1.21.1 in /home/indika/anaconda3/lib/python3.7/site-packages (from requests<3,>=2.0.0->wandb) (1.24.1)\n",
      "Requirement already satisfied: chardet<3.1.0,>=3.0.2 in /home/indika/anaconda3/lib/python3.7/site-packages (from requests<3,>=2.0.0->wandb) (3.0.4)\n",
      "Requirement already satisfied: idna<2.9,>=2.5 in /home/indika/anaconda3/lib/python3.7/site-packages (from requests<3,>=2.0.0->wandb) (2.8)\n",
      "Requirement already satisfied: certifi>=2017.4.17 in /home/indika/anaconda3/lib/python3.7/site-packages (from requests<3,>=2.0.0->wandb) (2019.3.9)\n"
     ]
    }
   ],
   "source": [
    "!pip3 install wandb\n",
    "import wandb\n",
    "from wandb.keras import *"
   ]
  },
  {
   "cell_type": "code",
   "execution_count": 8,
   "metadata": {
    "executionInfo": {
     "elapsed": 9262,
     "status": "ok",
     "timestamp": 1617022462577,
     "user": {
      "displayName": "Ranuga D",
      "photoUrl": "https://lh3.googleusercontent.com/a-/AOh14Gjuad_FPjQJNXxoJSYMZXSIw2XPL4E9xtpdkS1NEQ=s64",
      "userId": "01133442572951588905"
     },
     "user_tz": -330
    },
    "id": "2J64Yql92IHE"
   },
   "outputs": [],
   "source": [
    "\n",
    "\n",
    "import tensorflow_hub as hub"
   ]
  },
  {
   "cell_type": "code",
   "execution_count": 9,
   "metadata": {
    "colab": {
     "base_uri": "https://localhost:8080/"
    },
    "executionInfo": {
     "elapsed": 9819,
     "status": "ok",
     "timestamp": 1617022463414,
     "user": {
      "displayName": "Ranuga D",
      "photoUrl": "https://lh3.googleusercontent.com/a-/AOh14Gjuad_FPjQJNXxoJSYMZXSIw2XPL4E9xtpdkS1NEQ=s64",
      "userId": "01133442572951588905"
     },
     "user_tz": -330
    },
    "id": "K4zCRSaW27yW",
    "outputId": "f2f7c641-a06a-459a-87e2-ef2ce8897039"
   },
   "outputs": [
    {
     "data": {
      "text/plain": [
       "31"
      ]
     },
     "execution_count": 9,
     "metadata": {},
     "output_type": "execute_result"
    }
   ],
   "source": [
    "len(test_data)"
   ]
  },
  {
   "cell_type": "code",
   "execution_count": 10,
   "metadata": {
    "colab": {
     "base_uri": "https://localhost:8080/"
    },
    "executionInfo": {
     "elapsed": 9551,
     "status": "ok",
     "timestamp": 1617022463415,
     "user": {
      "displayName": "Ranuga D",
      "photoUrl": "https://lh3.googleusercontent.com/a-/AOh14Gjuad_FPjQJNXxoJSYMZXSIw2XPL4E9xtpdkS1NEQ=s64",
      "userId": "01133442572951588905"
     },
     "user_tz": -330
    },
    "id": "PYGmjt80282h",
    "outputId": "e283dd93-3a26-4b76-eda3-e376ee394416"
   },
   "outputs": [
    {
     "data": {
      "text/plain": [
       "79"
      ]
     },
     "execution_count": 10,
     "metadata": {},
     "output_type": "execute_result"
    }
   ],
   "source": [
    "len(train_data)"
   ]
  },
  {
   "cell_type": "code",
   "execution_count": 11,
   "metadata": {
    "colab": {
     "base_uri": "https://localhost:8080/"
    },
    "executionInfo": {
     "elapsed": 9288,
     "status": "ok",
     "timestamp": 1617022463417,
     "user": {
      "displayName": "Ranuga D",
      "photoUrl": "https://lh3.googleusercontent.com/a-/AOh14Gjuad_FPjQJNXxoJSYMZXSIw2XPL4E9xtpdkS1NEQ=s64",
      "userId": "01133442572951588905"
     },
     "user_tz": -330
    },
    "id": "cZ74kN0W2-D-",
    "outputId": "9e764717-151e-4c88-c8ba-46b8e9bd0437"
   },
   "outputs": [
    {
     "data": {
      "text/plain": [
       "25"
      ]
     },
     "execution_count": 11,
     "metadata": {},
     "output_type": "execute_result"
    }
   ],
   "source": [
    "len(valid_data)"
   ]
  },
  {
   "cell_type": "code",
   "execution_count": 12,
   "metadata": {},
   "outputs": [],
   "source": [
    "import tensorflow_hub as hub"
   ]
  },
  {
   "cell_type": "code",
   "execution_count": 13,
   "metadata": {},
   "outputs": [],
   "source": [
    "# for model_to_try in models_to_try:\n",
    "#     print('-'*100)\n",
    "#     print(model_to_try)\n",
    "#     print('-'*100)\n",
    "#     wandb.init(project=\"Mask-or-Without-Mask\",name=f\"{model_to_try[0]}-0\")\n",
    "#     model = tf.keras.Sequential([\n",
    "#       hub.KerasLayer(model_to_try[1],input_shape=(224,224,3),trainable=False),\n",
    "#       tf.keras.layers.Dense(1,activation='sigmoid')\n",
    "#     ])\n",
    "#     model.compile(loss=tf.keras.losses.BinaryCrossentropy(),metrics=['accuracy'],optimizer=tf.keras.optimizers.Adam())\n",
    "#     model.fit(train_data,validation_data=(test_data),epochs=5,callbacks=[WandbCallback()])"
   ]
  },
  {
   "cell_type": "markdown",
   "metadata": {
    "id": "0UnGse7H10op"
   },
   "source": [
    "### Results\n",
    "#### `val_loss` best = ...\n",
    "#### `val_accuracy` best = ...\n",
    "#### `accuracy` best = ...\n",
    "#### `loss` best = ..."
   ]
  },
  {
   "cell_type": "code",
   "execution_count": 14,
   "metadata": {
    "colab": {
     "base_uri": "https://localhost:8080/"
    },
    "executionInfo": {
     "elapsed": 8468,
     "status": "ok",
     "timestamp": 1617022463420,
     "user": {
      "displayName": "Ranuga D",
      "photoUrl": "https://lh3.googleusercontent.com/a-/AOh14Gjuad_FPjQJNXxoJSYMZXSIw2XPL4E9xtpdkS1NEQ=s64",
      "userId": "01133442572951588905"
     },
     "user_tz": -330
    },
    "id": "4Nhsaw2U3g2q",
    "outputId": "1403cd2f-299b-4c42-d7c3-ccca386dc764"
   },
   "outputs": [
    {
     "name": "stdout",
     "output_type": "stream",
     "text": [
      "Found 10000 images belonging to 2 classes.\n",
      "Found 992 images belonging to 2 classes.\n",
      "Found 800 images belonging to 2 classes.\n"
     ]
    }
   ],
   "source": [
    "train_datagen = ImageDataGenerator(rescale=1/255.0,width_shift_range=0.25,height_shift_range=0.25,shear_range=0.25,zoom_range=0.25,horizontal_flip=True,vertical_flip=True)\n",
    "test_datagen = ImageDataGenerator(rescale=1/255.0)\n",
    "valid_datagen = ImageDataGenerator(rescale=1/255.0)\n",
    "train_data = train_datagen.flow_from_directory(class_mode='binary',directory='./data/Train',target_size=(224,224))\n",
    "test_data = test_datagen.flow_from_directory(class_mode='binary',directory='./data/Test',target_size=(224,224))\n",
    "valid_data = test_datagen.flow_from_directory(class_mode='binary',directory='./data/Validation',target_size=(224,224))"
   ]
  },
  {
   "cell_type": "code",
   "execution_count": 15,
   "metadata": {},
   "outputs": [],
   "source": [
    "gpus = tf.config.list_physical_devices('GPU')"
   ]
  },
  {
   "cell_type": "code",
   "execution_count": 16,
   "metadata": {},
   "outputs": [
    {
     "data": {
      "text/plain": [
       "[PhysicalDevice(name='/physical_device:GPU:0', device_type='GPU')]"
      ]
     },
     "execution_count": 16,
     "metadata": {},
     "output_type": "execute_result"
    }
   ],
   "source": [
    "gpus"
   ]
  },
  {
   "cell_type": "code",
   "execution_count": 17,
   "metadata": {},
   "outputs": [],
   "source": [
    "# import os\n",
    "\n",
    "# pid = os.getpid()\n",
    "# !kill -9 $pid"
   ]
  },
  {
   "cell_type": "code",
   "execution_count": 18,
   "metadata": {},
   "outputs": [],
   "source": [
    "config = tf.compat.v1.ConfigProto()\n",
    "config.gpu_options.allow_growth = True\n",
    "session =tf.compat.v1.InteractiveSession(config=config)"
   ]
  },
  {
   "cell_type": "code",
   "execution_count": 19,
   "metadata": {},
   "outputs": [],
   "source": [
    "import tensorflow as tf\n",
    "gpu = tf.config.list_physical_devices('GPU')\n",
    "tf.config.experimental.set_memory_growth(gpu[0], True)"
   ]
  },
  {
   "cell_type": "code",
   "execution_count": null,
   "metadata": {
    "colab": {
     "base_uri": "https://localhost:8080/",
     "height": 909,
     "referenced_widgets": [
      "82ab9e6c7d6c4cc6a46282be9a7a9c60",
      "95577d7777cc4ef592e63267f325afaa",
      "696f6ab97e2441d79761861e774917e9",
      "b6ae46e935224da99dffce175a24174a",
      "119058591adc4ec48b3c338e7e4cb0cc",
      "45fe881bcdcb4ac8b994a34d93e4de03",
      "d0b69a3a807944fb859ba43d6bd74a13",
      "b0c0755a8c9c4aeca32b956c57eae2c9"
     ]
    },
    "executionInfo": {
     "elapsed": 1823629,
     "status": "ok",
     "timestamp": 1617024382097,
     "user": {
      "displayName": "Ranuga D",
      "photoUrl": "https://lh3.googleusercontent.com/a-/AOh14Gjuad_FPjQJNXxoJSYMZXSIw2XPL4E9xtpdkS1NEQ=s64",
      "userId": "01133442572951588905"
     },
     "user_tz": -330
    },
    "id": "Ew3x47bc2ZbX",
    "outputId": "59864679-aede-4637-a00d-5c91aacc4495"
   },
   "outputs": [],
   "source": [
    "# wandb.init(project=\"Mask-or-Without-Mask\",name=f\"big-dog-local\")\n",
    "model = tf.keras.Sequential([\n",
    "  hub.KerasLayer('https://tfhub.dev/tensorflow/resnet_50/feature_vector/1',input_shape=(224,224,3),trainable=False),\n",
    "  tf.keras.layers.Dense(1,activation='sigmoid')\n",
    "])\n",
    "model.compile(loss=tf.keras.losses.BinaryCrossentropy(),metrics=['accuracy'],optimizer=tf.keras.optimizers.Adam())\n",
    "model.fit(train_data,validation_data=(test_data),epochs=100)#,callbacks=[WandbCallback()])"
   ]
  },
  {
   "cell_type": "code",
   "execution_count": null,
   "metadata": {
    "colab": {
     "base_uri": "https://localhost:8080/"
    },
    "executionInfo": {
     "elapsed": 1056,
     "status": "ok",
     "timestamp": 1617024383164,
     "user": {
      "displayName": "Ranuga D",
      "photoUrl": "https://lh3.googleusercontent.com/a-/AOh14Gjuad_FPjQJNXxoJSYMZXSIw2XPL4E9xtpdkS1NEQ=s64",
      "userId": "01133442572951588905"
     },
     "user_tz": -330
    },
    "id": "7gk5OvdUEWLl",
    "outputId": "a4b061c9-1629-4a99-d88a-4e562e94e5e7"
   },
   "outputs": [],
   "source": [
    "!nvidia-smi"
   ]
  },
  {
   "cell_type": "code",
   "execution_count": null,
   "metadata": {
    "executionInfo": {
     "elapsed": 897,
     "status": "ok",
     "timestamp": 1617024522147,
     "user": {
      "displayName": "Ranuga D",
      "photoUrl": "https://lh3.googleusercontent.com/a-/AOh14Gjuad_FPjQJNXxoJSYMZXSIw2XPL4E9xtpdkS1NEQ=s64",
      "userId": "01133442572951588905"
     },
     "user_tz": -330
    },
    "id": "von-WeygLAVm"
   },
   "outputs": [],
   "source": [
    "import os"
   ]
  },
  {
   "cell_type": "code",
   "execution_count": 40,
   "metadata": {
    "executionInfo": {
     "elapsed": 1254,
     "status": "ok",
     "timestamp": 1617024724964,
     "user": {
      "displayName": "Ranuga D",
      "photoUrl": "https://lh3.googleusercontent.com/a-/AOh14Gjuad_FPjQJNXxoJSYMZXSIw2XPL4E9xtpdkS1NEQ=s64",
      "userId": "01133442572951588905"
     },
     "user_tz": -330
    },
    "id": "ccO8r3PUe2TG"
   },
   "outputs": [],
   "source": [
    "class_names = ['WithoutMask','WithMask']"
   ]
  },
  {
   "cell_type": "code",
   "execution_count": 41,
   "metadata": {
    "executionInfo": {
     "elapsed": 1048,
     "status": "ok",
     "timestamp": 1617024724965,
     "user": {
      "displayName": "Ranuga D",
      "photoUrl": "https://lh3.googleusercontent.com/a-/AOh14Gjuad_FPjQJNXxoJSYMZXSIw2XPL4E9xtpdkS1NEQ=s64",
      "userId": "01133442572951588905"
     },
     "user_tz": -330
    },
    "id": "ht_lDoHqe2pF"
   },
   "outputs": [],
   "source": [
    "test_imgs = os.listdir('/content/test')"
   ]
  },
  {
   "cell_type": "code",
   "execution_count": 42,
   "metadata": {
    "colab": {
     "base_uri": "https://localhost:8080/"
    },
    "executionInfo": {
     "elapsed": 882,
     "status": "ok",
     "timestamp": 1617024724965,
     "user": {
      "displayName": "Ranuga D",
      "photoUrl": "https://lh3.googleusercontent.com/a-/AOh14Gjuad_FPjQJNXxoJSYMZXSIw2XPL4E9xtpdkS1NEQ=s64",
      "userId": "01133442572951588905"
     },
     "user_tz": -330
    },
    "id": "s7TjAUyNe5cY",
    "outputId": "200b2fc3-3fb3-4051-dc8c-2d43f47d74fd"
   },
   "outputs": [
    {
     "data": {
      "text/plain": [
       "['WhatsApp Image 2021-03-22 at 10.40.55.jpeg',\n",
       " 'WhatsApp Image 2021-03-22 at 10.40.56.jpeg',\n",
       " '.ipynb_checkpoints',\n",
       " 'WhatsApp Image 2021-03-22 at 10.40.51.jpeg',\n",
       " 'WhatsApp Image 2021-03-22 at 10.40.52.jpeg',\n",
       " 'WhatsApp Image 2021-03-22 at 10.40.54.jpeg',\n",
       " 'WhatsApp Image 2021-03-22 at 10.40.57.jpeg',\n",
       " 'WhatsApp Image 2021-03-22 at 10.40.58.jpeg']"
      ]
     },
     "execution_count": 42,
     "metadata": {
      "tags": []
     },
     "output_type": "execute_result"
    }
   ],
   "source": [
    "test_imgs"
   ]
  },
  {
   "cell_type": "code",
   "execution_count": 43,
   "metadata": {
    "executionInfo": {
     "elapsed": 708,
     "status": "ok",
     "timestamp": 1617024724966,
     "user": {
      "displayName": "Ranuga D",
      "photoUrl": "https://lh3.googleusercontent.com/a-/AOh14Gjuad_FPjQJNXxoJSYMZXSIw2XPL4E9xtpdkS1NEQ=s64",
      "userId": "01133442572951588905"
     },
     "user_tz": -330
    },
    "id": "ZhYrQ8eLLYZZ"
   },
   "outputs": [],
   "source": [
    "test_imgs.remove('.ipynb_checkpoints')"
   ]
  },
  {
   "cell_type": "code",
   "execution_count": 44,
   "metadata": {
    "colab": {
     "base_uri": "https://localhost:8080/"
    },
    "executionInfo": {
     "elapsed": 623,
     "status": "ok",
     "timestamp": 1617024725460,
     "user": {
      "displayName": "Ranuga D",
      "photoUrl": "https://lh3.googleusercontent.com/a-/AOh14Gjuad_FPjQJNXxoJSYMZXSIw2XPL4E9xtpdkS1NEQ=s64",
      "userId": "01133442572951588905"
     },
     "user_tz": -330
    },
    "id": "iB-Qz6ByLa1w",
    "outputId": "cb1de12a-7f99-4d31-aa33-6f3212e283dd"
   },
   "outputs": [
    {
     "data": {
      "text/plain": [
       "['WhatsApp Image 2021-03-22 at 10.40.55.jpeg',\n",
       " 'WhatsApp Image 2021-03-22 at 10.40.56.jpeg',\n",
       " 'WhatsApp Image 2021-03-22 at 10.40.51.jpeg',\n",
       " 'WhatsApp Image 2021-03-22 at 10.40.52.jpeg',\n",
       " 'WhatsApp Image 2021-03-22 at 10.40.54.jpeg',\n",
       " 'WhatsApp Image 2021-03-22 at 10.40.57.jpeg',\n",
       " 'WhatsApp Image 2021-03-22 at 10.40.58.jpeg']"
      ]
     },
     "execution_count": 44,
     "metadata": {
      "tags": []
     },
     "output_type": "execute_result"
    }
   ],
   "source": [
    "test_imgs"
   ]
  },
  {
   "cell_type": "code",
   "execution_count": 45,
   "metadata": {
    "executionInfo": {
     "elapsed": 767,
     "status": "ok",
     "timestamp": 1617024725979,
     "user": {
      "displayName": "Ranuga D",
      "photoUrl": "https://lh3.googleusercontent.com/a-/AOh14Gjuad_FPjQJNXxoJSYMZXSIw2XPL4E9xtpdkS1NEQ=s64",
      "userId": "01133442572951588905"
     },
     "user_tz": -330
    },
    "id": "EdOBwoCuLdAl"
   },
   "outputs": [],
   "source": [
    "import matplotlib.pyplot as plt"
   ]
  },
  {
   "cell_type": "code",
   "execution_count": null,
   "metadata": {
    "id": "z-9F7w_0e6dl"
   },
   "outputs": [],
   "source": [
    "for test_img in test_imgs:\n",
    "  img = tf.io.read_file(f'/content/test/{test_img}')\n",
    "  img = tf.io.decode_jpeg(img)\n",
    "  img = tf.image.resize(images=img,size=(224,224))\n",
    "  img = img / 255.0\n",
    "  preds = model.predict(tf.expand_dims(img,axis=0))\n",
    "  print(preds)\n",
    "  plt.figure(figsize=(10,7))\n",
    "  plt.imshow(img)\n",
    "  plt.title(f'{class_names[preds.argmax()]}')\n",
    "  plt.axis(False)\n",
    "  plt.show();"
   ]
  },
  {
   "cell_type": "code",
   "execution_count": null,
   "metadata": {
    "executionInfo": {
     "elapsed": 93900,
     "status": "aborted",
     "timestamp": 1617022557413,
     "user": {
      "displayName": "Ranuga D",
      "photoUrl": "https://lh3.googleusercontent.com/a-/AOh14Gjuad_FPjQJNXxoJSYMZXSIw2XPL4E9xtpdkS1NEQ=s64",
      "userId": "01133442572951588905"
     },
     "user_tz": -330
    },
    "id": "d0qwpoxAe-HY"
   },
   "outputs": [],
   "source": []
  }
 ],
 "metadata": {
  "accelerator": "GPU",
  "colab": {
   "authorship_tag": "ABX9TyMVDX0p3k0Gg75wQFxOJCAG",
   "collapsed_sections": [],
   "mount_file_id": "1fgDkP97q-AWaJvjqU7PBC_vnkv18Vvfn",
   "name": "00-main.ipynb",
   "provenance": []
  },
  "kernelspec": {
   "display_name": "Python 3",
   "language": "python",
   "name": "python3"
  },
  "language_info": {
   "codemirror_mode": {
    "name": "ipython",
    "version": 3
   },
   "file_extension": ".py",
   "mimetype": "text/x-python",
   "name": "python",
   "nbconvert_exporter": "python",
   "pygments_lexer": "ipython3",
   "version": "3.7.3"
  },
  "widgets": {
   "application/vnd.jupyter.widget-state+json": {
    "119058591adc4ec48b3c338e7e4cb0cc": {
     "model_module": "@jupyter-widgets/controls",
     "model_name": "DescriptionStyleModel",
     "state": {
      "_model_module": "@jupyter-widgets/controls",
      "_model_module_version": "1.5.0",
      "_model_name": "DescriptionStyleModel",
      "_view_count": null,
      "_view_module": "@jupyter-widgets/base",
      "_view_module_version": "1.2.0",
      "_view_name": "StyleView",
      "description_width": ""
     }
    },
    "45fe881bcdcb4ac8b994a34d93e4de03": {
     "model_module": "@jupyter-widgets/base",
     "model_name": "LayoutModel",
     "state": {
      "_model_module": "@jupyter-widgets/base",
      "_model_module_version": "1.2.0",
      "_model_name": "LayoutModel",
      "_view_count": null,
      "_view_module": "@jupyter-widgets/base",
      "_view_module_version": "1.2.0",
      "_view_name": "LayoutView",
      "align_content": null,
      "align_items": null,
      "align_self": null,
      "border": null,
      "bottom": null,
      "display": null,
      "flex": null,
      "flex_flow": null,
      "grid_area": null,
      "grid_auto_columns": null,
      "grid_auto_flow": null,
      "grid_auto_rows": null,
      "grid_column": null,
      "grid_gap": null,
      "grid_row": null,
      "grid_template_areas": null,
      "grid_template_columns": null,
      "grid_template_rows": null,
      "height": null,
      "justify_content": null,
      "justify_items": null,
      "left": null,
      "margin": null,
      "max_height": null,
      "max_width": null,
      "min_height": null,
      "min_width": null,
      "object_fit": null,
      "object_position": null,
      "order": null,
      "overflow": null,
      "overflow_x": null,
      "overflow_y": null,
      "padding": null,
      "right": null,
      "top": null,
      "visibility": null,
      "width": null
     }
    },
    "696f6ab97e2441d79761861e774917e9": {
     "model_module": "@jupyter-widgets/controls",
     "model_name": "LabelModel",
     "state": {
      "_dom_classes": [],
      "_model_module": "@jupyter-widgets/controls",
      "_model_module_version": "1.5.0",
      "_model_name": "LabelModel",
      "_view_count": null,
      "_view_module": "@jupyter-widgets/controls",
      "_view_module_version": "1.5.0",
      "_view_name": "LabelView",
      "description": "",
      "description_tooltip": null,
      "layout": "IPY_MODEL_45fe881bcdcb4ac8b994a34d93e4de03",
      "placeholder": "​",
      "style": "IPY_MODEL_119058591adc4ec48b3c338e7e4cb0cc",
      "value": " 0.11MB of 0.11MB uploaded (0.00MB deduped)\r"
     }
    },
    "82ab9e6c7d6c4cc6a46282be9a7a9c60": {
     "model_module": "@jupyter-widgets/controls",
     "model_name": "VBoxModel",
     "state": {
      "_dom_classes": [],
      "_model_module": "@jupyter-widgets/controls",
      "_model_module_version": "1.5.0",
      "_model_name": "VBoxModel",
      "_view_count": null,
      "_view_module": "@jupyter-widgets/controls",
      "_view_module_version": "1.5.0",
      "_view_name": "VBoxView",
      "box_style": "",
      "children": [
       "IPY_MODEL_696f6ab97e2441d79761861e774917e9",
       "IPY_MODEL_b6ae46e935224da99dffce175a24174a"
      ],
      "layout": "IPY_MODEL_95577d7777cc4ef592e63267f325afaa"
     }
    },
    "95577d7777cc4ef592e63267f325afaa": {
     "model_module": "@jupyter-widgets/base",
     "model_name": "LayoutModel",
     "state": {
      "_model_module": "@jupyter-widgets/base",
      "_model_module_version": "1.2.0",
      "_model_name": "LayoutModel",
      "_view_count": null,
      "_view_module": "@jupyter-widgets/base",
      "_view_module_version": "1.2.0",
      "_view_name": "LayoutView",
      "align_content": null,
      "align_items": null,
      "align_self": null,
      "border": null,
      "bottom": null,
      "display": null,
      "flex": null,
      "flex_flow": null,
      "grid_area": null,
      "grid_auto_columns": null,
      "grid_auto_flow": null,
      "grid_auto_rows": null,
      "grid_column": null,
      "grid_gap": null,
      "grid_row": null,
      "grid_template_areas": null,
      "grid_template_columns": null,
      "grid_template_rows": null,
      "height": null,
      "justify_content": null,
      "justify_items": null,
      "left": null,
      "margin": null,
      "max_height": null,
      "max_width": null,
      "min_height": null,
      "min_width": null,
      "object_fit": null,
      "object_position": null,
      "order": null,
      "overflow": null,
      "overflow_x": null,
      "overflow_y": null,
      "padding": null,
      "right": null,
      "top": null,
      "visibility": null,
      "width": null
     }
    },
    "b0c0755a8c9c4aeca32b956c57eae2c9": {
     "model_module": "@jupyter-widgets/base",
     "model_name": "LayoutModel",
     "state": {
      "_model_module": "@jupyter-widgets/base",
      "_model_module_version": "1.2.0",
      "_model_name": "LayoutModel",
      "_view_count": null,
      "_view_module": "@jupyter-widgets/base",
      "_view_module_version": "1.2.0",
      "_view_name": "LayoutView",
      "align_content": null,
      "align_items": null,
      "align_self": null,
      "border": null,
      "bottom": null,
      "display": null,
      "flex": null,
      "flex_flow": null,
      "grid_area": null,
      "grid_auto_columns": null,
      "grid_auto_flow": null,
      "grid_auto_rows": null,
      "grid_column": null,
      "grid_gap": null,
      "grid_row": null,
      "grid_template_areas": null,
      "grid_template_columns": null,
      "grid_template_rows": null,
      "height": null,
      "justify_content": null,
      "justify_items": null,
      "left": null,
      "margin": null,
      "max_height": null,
      "max_width": null,
      "min_height": null,
      "min_width": null,
      "object_fit": null,
      "object_position": null,
      "order": null,
      "overflow": null,
      "overflow_x": null,
      "overflow_y": null,
      "padding": null,
      "right": null,
      "top": null,
      "visibility": null,
      "width": null
     }
    },
    "b6ae46e935224da99dffce175a24174a": {
     "model_module": "@jupyter-widgets/controls",
     "model_name": "FloatProgressModel",
     "state": {
      "_dom_classes": [],
      "_model_module": "@jupyter-widgets/controls",
      "_model_module_version": "1.5.0",
      "_model_name": "FloatProgressModel",
      "_view_count": null,
      "_view_module": "@jupyter-widgets/controls",
      "_view_module_version": "1.5.0",
      "_view_name": "ProgressView",
      "bar_style": "",
      "description": "",
      "description_tooltip": null,
      "layout": "IPY_MODEL_b0c0755a8c9c4aeca32b956c57eae2c9",
      "max": 1,
      "min": 0,
      "orientation": "horizontal",
      "style": "IPY_MODEL_d0b69a3a807944fb859ba43d6bd74a13",
      "value": 1
     }
    },
    "d0b69a3a807944fb859ba43d6bd74a13": {
     "model_module": "@jupyter-widgets/controls",
     "model_name": "ProgressStyleModel",
     "state": {
      "_model_module": "@jupyter-widgets/controls",
      "_model_module_version": "1.5.0",
      "_model_name": "ProgressStyleModel",
      "_view_count": null,
      "_view_module": "@jupyter-widgets/base",
      "_view_module_version": "1.2.0",
      "_view_name": "StyleView",
      "bar_color": null,
      "description_width": ""
     }
    }
   }
  }
 },
 "nbformat": 4,
 "nbformat_minor": 2
}
